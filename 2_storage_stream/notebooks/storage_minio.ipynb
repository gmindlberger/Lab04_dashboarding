{
 "cells": [
  {
   "cell_type": "markdown",
   "id": "0e253874-ce3b-4f40-a1e3-fcc53f1480ce",
   "metadata": {},
   "source": [
    "## S3 compatible storage using MinIO\n",
    "The environment provides a storage solution which \"speaks\" the S3-protocol of AWS. To interact with the storage the python package [boto3](https://pypi.org/project/boto3/) is available.\n",
    "\n",
    "The MinIO server is defined in the compose file and is available using the URL [http://minio:9000](http://minio:9000). An UI is also available to interact with the stored objects by accessing [http://localhost:9001](http://localhost:9001)"
   ]
  },
  {
   "cell_type": "code",
   "execution_count": 1,
   "id": "8857cfcd-d28e-4160-a217-b30f5aea7af7",
   "metadata": {},
   "outputs": [
    {
     "data": {
      "text/plain": [
       "{'ResponseMetadata': {'RequestId': '1844598E6B5FC5F7',\n",
       "  'HostId': 'dd9025bab4ad464b049177c95eb6ebf374d3b3fd1af9251148b658df7ac2e3e8',\n",
       "  'HTTPStatusCode': 200,\n",
       "  'HTTPHeaders': {'accept-ranges': 'bytes',\n",
       "   'content-length': '0',\n",
       "   'etag': '\"0a64991b626360b39ed0fa6bdd897bed\"',\n",
       "   'server': 'MinIO',\n",
       "   'strict-transport-security': 'max-age=31536000; includeSubDomains',\n",
       "   'vary': 'Origin, Accept-Encoding',\n",
       "   'x-amz-checksum-crc32': 'k36GyA==',\n",
       "   'x-amz-id-2': 'dd9025bab4ad464b049177c95eb6ebf374d3b3fd1af9251148b658df7ac2e3e8',\n",
       "   'x-amz-request-id': '1844598E6B5FC5F7',\n",
       "   'x-content-type-options': 'nosniff',\n",
       "   'x-ratelimit-limit': '2102',\n",
       "   'x-ratelimit-remaining': '2102',\n",
       "   'x-xss-protection': '1; mode=block',\n",
       "   'date': 'Fri, 30 May 2025 16:03:43 GMT'},\n",
       "  'RetryAttempts': 0},\n",
       " 'ETag': '\"0a64991b626360b39ed0fa6bdd897bed\"',\n",
       " 'ChecksumCRC32': 'k36GyA=='}"
      ]
     },
     "execution_count": 1,
     "metadata": {},
     "output_type": "execute_result"
    }
   ],
   "source": [
    "import boto3\n",
    "\n",
    "s3_client = boto3.client(\n",
    "    \"s3\",\n",
    "    endpoint_url=\"http://minio:9000\",\n",
    "    aws_access_key_id=\"admin\",\n",
    "    aws_secret_access_key=\"password\"\n",
    ")\n",
    "\n",
    "s3_resource = boto3.resource('s3', \n",
    "    endpoint_url=\"http://minio:9000\",\n",
    "    aws_access_key_id=\"admin\",\n",
    "    aws_secret_access_key=\"password\"\n",
    ")\n",
    "\n",
    "create_bucket=True\n",
    "for b in s3_resource.buckets.all():\n",
    "    if b.name == \"test-bucket\":\n",
    "        create_bucket = False\n",
    "\n",
    "if create_bucket is True:\n",
    "    s3_client.create_bucket(Bucket=\"test-bucket\")\n",
    "\n",
    "# Upload a file\n",
    "s3_client.put_object(Bucket=\"test-bucket\", Key=\"example.txt\", Body=\"Hello, MinIO!\")"
   ]
  },
  {
   "cell_type": "code",
   "execution_count": null,
   "id": "f45e88c8-8aaf-4437-a0dc-ce0e2b72b68b",
   "metadata": {},
   "outputs": [],
   "source": []
  }
 ],
 "metadata": {
  "kernelspec": {
   "display_name": "Python 3 (ipykernel)",
   "language": "python",
   "name": "python3"
  },
  "language_info": {
   "codemirror_mode": {
    "name": "ipython",
    "version": 3
   },
   "file_extension": ".py",
   "mimetype": "text/x-python",
   "name": "python",
   "nbconvert_exporter": "python",
   "pygments_lexer": "ipython3",
   "version": "3.12.10"
  }
 },
 "nbformat": 4,
 "nbformat_minor": 5
}
