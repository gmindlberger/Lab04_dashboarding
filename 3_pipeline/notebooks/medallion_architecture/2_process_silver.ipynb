{
 "cells": [
  {
   "cell_type": "markdown",
   "id": "9259ee36-13b9-451e-9b33-0219df76e559",
   "metadata": {},
   "source": [
    "# Silver: Process data\n",
    "Similar to the classical [ETL](https://en.wikipedia.org/wiki/Extract,_transform,_load) process, the silver layer performs transformations to prepare data for serving."
   ]
  },
  {
   "cell_type": "code",
   "execution_count": 1,
   "id": "6ed6f4d8-9145-473e-b31f-550d20dfc9ff",
   "metadata": {},
   "outputs": [
    {
     "name": "stdout",
     "output_type": "stream",
     "text": [
      "Transformed data stored in MinIO at silver/weather_cleaned.parquet\n"
     ]
    }
   ],
   "source": [
    "import duckdb\n",
    "import boto3\n",
    "import pandas as pd\n",
    "from io import BytesIO\n",
    "from datetime import datetime\n",
    "\n",
    "# MinIO Configuration\n",
    "# -------------------------------------------------------------------------------------------------\n",
    "MINIO_ENDPOINT = \"http://minio:9000\"\n",
    "# Danger-Zone (https://www.youtube.com/watch?v=siwpn14IE7E)\n",
    "# Typicalla a kind of vault would be used e.g. https://azure.microsoft.com/en-us/products/key-vault, ...\n",
    "MINIO_ACCESS_KEY = \"admin\"\n",
    "MINIO_SECRET_KEY = \"password\"\n",
    "BUCKET_NAME = \"weather-data\"\n",
    "SILVER_FILE_NAME = \"silver/weather_cleaned.parquet\"\n",
    "\n",
    "# Initialize MinIO Client\n",
    "s3 = boto3.client(\n",
    "    \"s3\",\n",
    "    endpoint_url=MINIO_ENDPOINT,\n",
    "    aws_access_key_id=MINIO_ACCESS_KEY,\n",
    "    aws_secret_access_key=MINIO_SECRET_KEY\n",
    ")\n",
    "\n",
    "# List all parquet files in the bronze layer (latest date)\n",
    "response = s3.list_objects_v2(Bucket=BUCKET_NAME, Prefix=\"bronze/\")\n",
    "files = [obj[\"Key\"] for obj in response.get(\"Contents\", []) if obj[\"Key\"].endswith(\".parquet\")]\n",
    "\n",
    "# Load all parquet files into DuckDB\n",
    "conn = duckdb.connect(database=\":memory:\")\n",
    "df_list = []\n",
    "\n",
    "for file in files:\n",
    "    obj = s3.get_object(Bucket=BUCKET_NAME, Key=file)\n",
    "    df = pd.read_parquet(BytesIO(obj[\"Body\"].read()))\n",
    "    df_list.append(df)\n",
    "\n",
    "df_combined = pd.concat(df_list)\n",
    "\n",
    "# Register in DuckDB and perform transformations\n",
    "conn.register(\"weather_data\", df_combined)\n",
    "\n",
    "df_transformed = conn.execute(\"\"\"\n",
    "    SELECT \n",
    "        timestamp,\n",
    "        temperature,\n",
    "        humidity,\n",
    "        wind_speed,\n",
    "        CASE \n",
    "            WHEN temperature < 0 THEN 'Freezing'\n",
    "            WHEN temperature BETWEEN 0 AND 10 THEN 'Cold'\n",
    "            WHEN temperature BETWEEN 10 AND 20 THEN 'Mild'\n",
    "            ELSE 'Warm'\n",
    "        END AS temperature_category\n",
    "    FROM weather_data\n",
    "\"\"\").fetchdf()\n",
    "\n",
    "# Save cleaned data to MinIO\n",
    "parquet_buffer = BytesIO()\n",
    "df_transformed.to_parquet(parquet_buffer, engine=\"pyarrow\")\n",
    "s3.put_object(Bucket=BUCKET_NAME, Key=SILVER_FILE_NAME, Body=parquet_buffer.getvalue())\n",
    "\n",
    "print(f\"Transformed data stored in MinIO at {SILVER_FILE_NAME}\")"
   ]
  },
  {
   "cell_type": "code",
   "execution_count": null,
   "id": "a8dccd69-9325-4887-b113-defec2c41139",
   "metadata": {},
   "outputs": [],
   "source": []
  }
 ],
 "metadata": {
  "kernelspec": {
   "display_name": "Python 3 (ipykernel)",
   "language": "python",
   "name": "python3"
  },
  "language_info": {
   "codemirror_mode": {
    "name": "ipython",
    "version": 3
   },
   "file_extension": ".py",
   "mimetype": "text/x-python",
   "name": "python",
   "nbconvert_exporter": "python",
   "pygments_lexer": "ipython3",
   "version": "3.12.10"
  }
 },
 "nbformat": 4,
 "nbformat_minor": 5
}
