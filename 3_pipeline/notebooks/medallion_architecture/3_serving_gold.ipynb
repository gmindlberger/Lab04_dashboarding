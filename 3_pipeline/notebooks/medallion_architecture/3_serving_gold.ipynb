{
 "cells": [
  {
   "cell_type": "markdown",
   "id": "203f1b9d-267a-4d8f-aa9b-58aec1102d5c",
   "metadata": {},
   "source": [
    "# Gold: Serve data\n",
    "One could argue that this is also a kind of transformation. The main purpose of the Gold-Lazyer is to aggregated data and to prepare the data for serving (API, Reporting, ...)"
   ]
  },
  {
   "cell_type": "code",
   "execution_count": 1,
   "id": "7549b075-eea1-4489-a907-409c2bc62772",
   "metadata": {},
   "outputs": [
    {
     "name": "stdout",
     "output_type": "stream",
     "text": [
      "  temperature_category  count   avg_temp  avg_humidity  avg_wind_speed\n",
      "0                 Mild     59  16.535593     82.559322        6.466102\n",
      "1                 Warm     37  23.154054     64.891892        4.310811\n"
     ]
    },
    {
     "data": {
      "image/png": "[encoded data removed]",
      "text/plain": [
       "<Figure size 640x480 with 1 Axes>"
      ]
     },
     "metadata": {},
     "output_type": "display_data"
    },
    {
     "data": {
      "image/png": "[encoded data removed]",
      "text/plain": [
       "<Figure size 640x480 with 1 Axes>"
      ]
     },
     "metadata": {},
     "output_type": "display_data"
    },
    {
     "name": "stdout",
     "output_type": "stream",
     "text": [
      "Aggregated data stored in MinIO at gold/weather_aggregated.parquet\n"
     ]
    }
   ],
   "source": [
    "import duckdb\n",
    "import boto3\n",
    "import pandas as pd\n",
    "from io import BytesIO\n",
    "\n",
    "# MinIO Configuration\n",
    "# -------------------------------------------------------------------------------------------------\n",
    "MINIO_ENDPOINT = \"http://minio:9000\"\n",
    "# Danger-Zone (https://www.youtube.com/watch?v=siwpn14IE7E)\n",
    "# Typicalla a kind of vault would be used e.g. https://azure.microsoft.com/en-us/products/key-vault, ...\n",
    "MINIO_ACCESS_KEY = \"admin\"\n",
    "MINIO_SECRET_KEY = \"password\"\n",
    "BUCKET_NAME = \"weather-data\"\n",
    "SILVER_FILE_NAME = \"silver/weather_cleaned.parquet\"\n",
    "GOLD_FILE_NAME = \"gold/weather_aggregated.parquet\"\n",
    "\n",
    "# Initialize MinIO Client\n",
    "s3 = boto3.client(\n",
    "    \"s3\",\n",
    "    endpoint_url=MINIO_ENDPOINT,\n",
    "    aws_access_key_id=MINIO_ACCESS_KEY,\n",
    "    aws_secret_access_key=MINIO_SECRET_KEY\n",
    ")\n",
    "\n",
    "# Load Transformed Data from MinIO\n",
    "silver_obj = s3.get_object(Bucket=BUCKET_NAME, Key=SILVER_FILE_NAME)\n",
    "df_transformed = pd.read_parquet(BytesIO(silver_obj[\"Body\"].read()))\n",
    "\n",
    "# Register in DuckDB and perform Aggregations\n",
    "conn = duckdb.connect(database=\":memory:\")\n",
    "conn.register(\"weather_data\", df_transformed)\n",
    "\n",
    "df_aggregated = conn.execute(\"\"\"\n",
    "    SELECT \n",
    "        temperature_category,\n",
    "        COUNT(*) AS count,\n",
    "        AVG(temperature) AS avg_temp,\n",
    "        AVG(humidity) AS avg_humidity,\n",
    "        AVG(wind_speed) AS avg_wind_speed\n",
    "    FROM weather_data\n",
    "    GROUP BY temperature_category\n",
    "\"\"\").fetchdf()\n",
    "\n",
    "# Save aggregated data to MinIO\n",
    "parquet_buffer = BytesIO()\n",
    "df_aggregated.to_parquet(parquet_buffer, engine=\"pyarrow\")\n",
    "s3.put_object(Bucket=BUCKET_NAME, Key=GOLD_FILE_NAME, Body=parquet_buffer.getvalue())\n",
    "\n",
    "# Display Aggregated Data\n",
    "\n",
    "print(df_aggregated)\n",
    "\n",
    "from matplotlib import pyplot as plt \n",
    "x = df_aggregated['temperature_category'].tolist()\n",
    "y = df_aggregated['count'].tolist()\n",
    "plt.bar(x, y)\n",
    "plt.show()\n",
    "\n",
    "y = df_aggregated['avg_temp'].tolist()\n",
    "plt.bar(x, y)\n",
    "plt.show()\n",
    "\n",
    "print(f\"Aggregated data stored in MinIO at {GOLD_FILE_NAME}\")"
   ]
  },
  {
   "cell_type": "code",
   "execution_count": null,
   "id": "e2d8956a-3ed0-4489-899e-3f7981f32279",
   "metadata": {},
   "outputs": [],
   "source": []
  }
 ],
 "metadata": {
  "kernelspec": {
   "display_name": "Python 3 (ipykernel)",
   "language": "python",
   "name": "python3"
  },
  "language_info": {
   "codemirror_mode": {
    "name": "ipython",
    "version": 3
   },
   "file_extension": ".py",
   "mimetype": "text/x-python",
   "name": "python",
   "nbconvert_exporter": "python",
   "pygments_lexer": "ipython3",
   "version": "3.12.10"
  }
 },
 "nbformat": 4,
 "nbformat_minor": 5
}
